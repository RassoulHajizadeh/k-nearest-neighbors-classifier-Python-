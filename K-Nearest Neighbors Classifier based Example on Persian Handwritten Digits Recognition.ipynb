{
 "cells": [
  {
   "cell_type": "code",
   "execution_count": 1,
   "metadata": {
    "scrolled": true
   },
   "outputs": [],
   "source": [
    "import numpy as np\n",
    "from scipy.io import loadmat, savemat"
   ]
  },
  {
   "cell_type": "markdown",
   "metadata": {},
   "source": [
    "# define a kNN classifier Class object  "
   ]
  },
  {
   "cell_type": "code",
   "execution_count": 2,
   "metadata": {},
   "outputs": [],
   "source": [
    "class KNN_Classifier(object):\n",
    "  def __init__(self):\n",
    "    pass\n",
    "\n",
    "  def train(self, X, y):\n",
    "    \"\"\" X is N x D where each row is an example. Y is 1-dimension of size N \"\"\"\n",
    "    # the nearest neighbor classifier simply remembers all the training data\n",
    "    self.Xtr = X\n",
    "    self.ytr = y\n",
    "\n",
    "  def predict(self, X, k, num_classes):\n",
    "    \"\"\" X is N x D where each row is an example we wish to predict label for \"\"\"\n",
    "    num_test = X.shape[0]\n",
    "    # lets make sure that the output type matches the input type\n",
    "    Ypred = np.zeros(num_test, dtype = self.ytr.dtype)\n",
    "\n",
    "    # loop over all test rows\n",
    "    for i in range(num_test):\n",
    "      # find the nearest training image to the i'th test image\n",
    "      # using the L1 distance (sum of absolute value differences)\n",
    "      distances = np.sum(np.abs(self.Xtr - X[i,:]), axis = 1)\n",
    "      k_min_index = np.argsort(distances)[0:k] # get the index with k smallest distance\n",
    "      preYpred = self.ytr[k_min_index] # predict the label of the k nearest neighbors \n",
    "    \n",
    "      num_neigh = []\n",
    "      for c1 in range(num_classes):\n",
    "        num_neigh.append(len([c2 for c2,x in enumerate(preYpred) if x==(c1+1)]))\n",
    "        \n",
    "      Ypred[i] = np.argmax(num_neigh)+1\n",
    "    return Ypred"
   ]
  },
  {
   "cell_type": "markdown",
   "metadata": {},
   "source": [
    "# Loading Train and Test mat file"
   ]
  },
  {
   "cell_type": "code",
   "execution_count": 3,
   "metadata": {},
   "outputs": [],
   "source": [
    "# loading mat file of Persian handwritten digits images which are categorized into train and test groups.\n",
    "# Train and test data matrices consist 1120 samples with size of 4096x1120 (DxN). Each image has been represented\n",
    "# as a vector by rearranging its intensity values.\n",
    "\n",
    "# Train_X: 8 class (1-9 except 2) with uniform distribution (140 images in each class)\n",
    "Train_X = loadmat('Train_manifold_1120.mat')['Train_manif'] # It is D x N.\n",
    "Train_X = Train_X.transpose() # It is N x D.\n",
    "\n",
    "# making the label vector of the train data\n",
    "preTrain_Label = np.matlib.repmat([1,2,3,4,5,6,7,8], 140, 1)\n",
    "temp = preTrain_Label.transpose()\n",
    "Train_Label = temp.flatten()\n",
    "\n",
    "Test_X = loadmat('Test_manifold_1120.mat')['Test_manif'] # It is D x N.\n",
    "Test_X = Test_X.transpose() # It is N x D.\n",
    "\n",
    "# Test_Label is equal with Train_Label.\n",
    "Test_Label = Train_Label"
   ]
  },
  {
   "cell_type": "markdown",
   "metadata": {},
   "source": [
    "# Classification result"
   ]
  },
  {
   "cell_type": "code",
   "execution_count": 4,
   "metadata": {
    "scrolled": true
   },
   "outputs": [
    {
     "name": "stdout",
     "output_type": "stream",
     "text": [
      "90.625\n"
     ]
    }
   ],
   "source": [
    "dist = KNN_Classifier()\n",
    "dist.train(Train_X,Train_Label)\n",
    "prediction_ind = dist.predict(Test_X,k=3,num_classes=8)\n",
    "#prediction_ind = dist.predict(Train_X,k=1,num_classes=8) # the recognition rate has to be equal 100%\n",
    "\n",
    "recog_rate = (prediction_ind == Test_Label)\n",
    "print(sum(1*recog_rate)/1120*100)"
   ]
  },
  {
   "cell_type": "code",
   "execution_count": null,
   "metadata": {},
   "outputs": [],
   "source": []
  }
 ],
 "metadata": {
  "kernelspec": {
   "display_name": "Python 3",
   "language": "python",
   "name": "python3"
  },
  "language_info": {
   "codemirror_mode": {
    "name": "ipython",
    "version": 3
   },
   "file_extension": ".py",
   "mimetype": "text/x-python",
   "name": "python",
   "nbconvert_exporter": "python",
   "pygments_lexer": "ipython3",
   "version": "3.6.8"
  }
 },
 "nbformat": 4,
 "nbformat_minor": 2
}
